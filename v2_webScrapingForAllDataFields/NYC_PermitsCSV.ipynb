{
 "cells": [
  {
   "cell_type": "code",
   "execution_count": 5,
   "metadata": {
    "collapsed": false
   },
   "outputs": [],
   "source": [
    "import json\n",
    "import csv\n",
    "import sys\n",
    "from lxml import html\n",
    "import requests"
   ]
  },
  {
   "cell_type": "code",
   "execution_count": 6,
   "metadata": {
    "collapsed": false
   },
   "outputs": [
    {
     "name": "stdout",
     "output_type": "stream",
     "text": [
      "05/03/2016\n"
     ]
    }
   ],
   "source": [
    "temp = open(\"inputMay3.json\")\n",
    "inputs = json.load(temp)\n",
    "jsonData = inputs['rows']\n",
    "\n",
    "#data = jsonData\n",
    "print jsonData[0]['cell'][3]\n"
   ]
  },
  {
   "cell_type": "code",
   "execution_count": 7,
   "metadata": {
    "collapsed": true
   },
   "outputs": [],
   "source": [
    "validTo = 'null'\n",
    "purpose = 'null'\n",
    "house = 'null'\n",
    "permitSeries = 'null'\n",
    "permitType = 'null'\n",
    "\n",
    "\n",
    "def getPermitDetails(x):\n",
    "    global validTo, purpose, house, permitType, permitSeries\n",
    "    page = requests.get('https://nycstreets.net/Public/Permit/Details/'+x)\n",
    "    tree = html.fromstring(page.content)\n",
    "\n",
    "    temp = tree.xpath('//div[@class=\\'row\\']/div/label[text()=\\'Permit Valid To: \\']/../span/text()')\n",
    "    if len(temp) != 0 :\n",
    "        validTo = temp[0]\n",
    " \n",
    "    temp = tree.xpath('//div[@class=\\'row\\']/div/label[text()=\\'Permit Purpose: \\']/../span/text()')\n",
    "    if len(temp)!= 0 :\n",
    "        purpose = temp[0]\n",
    "    \n",
    "    temp = tree.xpath('//div[@class=\\'row\\']/div/label[text()=\\'House #: \\']/../span/text()')\n",
    "    if len(temp) != 0 :\n",
    "        house = temp[0]\n",
    "        \n",
    "    temp = tree.xpath('//div[@class=\\'row\\']/div/label[text()=\\'Permit Series: \\']/../span/text()')\n",
    "    if len(temp) != 0 :\n",
    "        permitSeries = temp[0]\n",
    "        \n",
    "    temp = tree.xpath('//div[@class=\\'row\\']/div/label[text()=\\'Permit Type: \\']/../span/text()')\n",
    "    if len(temp) != 0 :\n",
    "        permitType = temp[0]\n",
    "    \n",
    "    return {'validTo': validTo, \n",
    "            'purpose': purpose, \n",
    "            'house': house, \n",
    "            'permitSeries': permitSeries, \n",
    "            'permitType': permitType,\n",
    "           }"
   ]
  },
  {
   "cell_type": "code",
   "execution_count": null,
   "metadata": {
    "collapsed": false
   },
   "outputs": [],
   "source": [
    "i = 0;\n",
    "with open(\"masterPermitsMay3.csv\", \"w\") as file:\n",
    "    csv_file = csv.writer(file)\n",
    "    headers = ['Permit Number', 'Permit Series', 'Permit Type', 'Permit Status', 'Issue Date', 'Valid To', \n",
    "               'House Number', 'On Street', 'From Street', 'To Street', 'Permittee Name', 'Permit Purpose', \n",
    "               'Location (WKT)']\n",
    "    csv_file.writerow(headers)\n",
    "    for item in jsonData:\n",
    "        permit =  jsonData[i]['cell'][1]\n",
    "        if len(permit) > 4:\n",
    "            permit = permit[0:4]\n",
    "        permitNumber = jsonData[i]['cell'][0]\n",
    "        getPermitDetails(permitNumber)\n",
    "        permitStatus = jsonData[i]['cell'][2] #permit status\n",
    "        issueDate = jsonData[i]['cell'][3] #issue date\n",
    "        onStreet = jsonData[i]['cell'][5]  #On street\n",
    "        fromStreet = jsonData[i]['cell'][6]  #From Street\n",
    "        toStreet = jsonData[i]['cell'][7]  #To street\n",
    "        permitteeName = jsonData[i]['cell'][8] #permittee name\n",
    "        permitteeName = permitteeName.decode('unicode_escape').encode('ascii','ignore')\n",
    "        purpose = purpose.encode('utf-8')\n",
    "        locationWKT = jsonData[i]['cell'][9] #location (wkt)\n",
    "        csv_file.writerow([permitNumber, permitSeries, permitType, permitStatus, issueDate, validTo, house, \n",
    "                          onStreet, fromStreet, toStreet, permitteeName, purpose, locationWKT])\n",
    "        i = i + 1"
   ]
  },
  {
   "cell_type": "code",
   "execution_count": 22,
   "metadata": {
    "collapsed": false
   },
   "outputs": [
    {
     "name": "stdout",
     "output_type": "stream",
     "text": [
      "PORT AUTHORITY OF NY & NJ\n",
      " JFK â Rockaway Blvd Lane Closure for Emergency Tree Removal\n",
      "<type 'str'>\n",
      "<type 'lxml.etree._ElementUnicodeResult'>\n",
      "<type 'str'>\n"
     ]
    }
   ],
   "source": [
    "#test code. NOT to be executed with above\n",
    "\n",
    "permitteeName = permitteeName.decode('unicode_escape').encode('ascii','ignore')\n",
    "print permitteeName\n",
    "page = requests.get('https://nycstreets.net/Public/Permit/Details/Q022015349A21')\n",
    "tree = html.fromstring(page.content)\n",
    "\n",
    "purpose = 'null'\n",
    "\n",
    "temp = tree.xpath('//div[@class=\\'row\\']/div/strong[text()=\\'Permit Purpose: \\']/../span/text()')\n",
    "if len(temp) != 0 :\n",
    "    print temp[0]\n",
    "    purpose = temp[0]\n",
    "    \n",
    "#etree.tostring()\n",
    "    \n",
    "print type(permitteeName)\n",
    "print type(purpose)\n",
    "    \n",
    "permitteeName = permitteeName.decode('unicode_escape').encode('ascii','ignore')\n",
    "purpose = purpose.encode('utf-8')\n",
    "\n",
    "print type(purpose)\n",
    "\n",
    "with open(\"masterPermitsCsv2.csv\", \"w\") as file:\n",
    "    csv_file = csv.writer(file)\n",
    "    csv_file.writerow([permitteeName, purpose])"
   ]
  },
  {
   "cell_type": "code",
   "execution_count": null,
   "metadata": {
    "collapsed": true
   },
   "outputs": [],
   "source": []
  }
 ],
 "metadata": {
  "kernelspec": {
   "display_name": "Python 2.7",
   "language": "python",
   "name": "python2.7"
  },
  "language_info": {
   "codemirror_mode": {
    "name": "ipython",
    "version": 2
   },
   "file_extension": ".py",
   "mimetype": "text/x-python",
   "name": "python",
   "nbconvert_exporter": "python",
   "pygments_lexer": "ipython2",
   "version": "2.7.6"
  }
 },
 "nbformat": 4,
 "nbformat_minor": 0
}
