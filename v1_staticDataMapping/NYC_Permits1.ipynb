{
 "cells": [
  {
   "cell_type": "code",
   "execution_count": 19,
   "metadata": {
    "collapsed": false
   },
   "outputs": [
    {
     "name": "stdout",
     "output_type": "stream",
     "text": [
      "02/19/2016\n"
     ]
    }
   ],
   "source": [
    "temp = open(\"outputv2.json\")\n",
    "inputs = json.load(temp)\n",
    "jsonData = inputs['rows']\n",
    "\n",
    "#data = jsonData\n",
    "print jsonData[0]['cell'][3]"
   ]
  },
  {
   "cell_type": "code",
   "execution_count": null,
   "metadata": {
    "collapsed": false
   },
   "outputs": [],
   "source": [
    "director = urllib2.OpenerDirector()\n",
    "url = 'https://nycstreets.net/Public/Permits/PermitSearch_Adv/\\' --data \\'strPermitModel={\"PermitNumber\":\"\",\"PermitSeriesID\":\"\",\"PermitTypeID\":\"\",\"PermitIssueDateFrom\":\"01/01/2013\",\"PermitIssueDateTo\":\"02/16/2016\",\"PermitIdsForMap\":\"\",\"PermittedStartDateFrom\":\"\",\"PermittedStartDateTo\":\"\",\"geom\":\"\",\"BoroughCode\":\"\",\"CommunityBoard\":\"101\",\"HouseNumber\":\"\",\"OnStreet\":\"\",\"txtOnStreet\":\"\",\"FromStreet\":\"\",\"ToStreet\":\"\",\"CrossStreet\":\"\",\"OFTCode\":\"\",\"PermitteeTypeID\":\"\",\"source\":\"SearchByPermit\",\"txtFromStreet\":null,\"txtToStreet\":null,\"txtCrossStreet\":null}&_search=false&nd=1454701293525&rows=50&sidx=PermitNumber&sord=desc'\n",
    "jsonFile = urllib2.Request(url)\n",
    "result = director.open(jsonFile)\n",
    "data = json.loads(request.read())"
   ]
  },
  {
   "cell_type": "code",
   "execution_count": null,
   "metadata": {
    "collapsed": false
   },
   "outputs": [],
   "source": [
    "url = 'https://nycstreets.net/Public/Permits/PermitSearch_Adv/\\' --data \\'strPermitModel={\"PermitNumber\":\"\",\"PermitSeriesID\":\"\",\"PermitTypeID\":\"\",\"PermitIssueDateFrom\":\"01/01/2013\",\"PermitIssueDateTo\":\"02/16/2016\",\"PermitIdsForMap\":\"\",\"PermittedStartDateFrom\":\"\",\"PermittedStartDateTo\":\"\",\"geom\":\"\",\"BoroughCode\":\"\",\"CommunityBoard\":\"101\",\"HouseNumber\":\"\",\"OnStreet\":\"\",\"txtOnStreet\":\"\",\"FromStreet\":\"\",\"ToStreet\":\"\",\"CrossStreet\":\"\",\"OFTCode\":\"\",\"PermitteeTypeID\":\"\",\"source\":\"SearchByPermit\",\"txtFromStreet\":null,\"txtToStreet\":null,\"txtCrossStreet\":null}&_search=false&nd=1454701293525&rows=50&sidx=PermitNumber&sord=desc'\n",
    "#import os\n",
    "#os.system(url)\n",
    "\n",
    "#request = urllib2.Request(url)\n",
    "#data = json.loads(request.read())\n",
    "\n",
    "response = requests.post(url)\n",
    "data = response.json()['rows'][0]['cell']\n",
    "\n"
   ]
  },
  {
   "cell_type": "code",
   "execution_count": null,
   "metadata": {
    "collapsed": false
   },
   "outputs": [],
   "source": [
    "import subprocess\n",
    "#output = subprocess.check_output([\"curl\", 'https://nycstreets.net/Public/Permits/PermitSearch_Adv/', '--data ', 'strPermitModel=%7B%22PermitNumber%22%3A%22%22%2C%22PermitSeriesID%22%3A%22%22%2C%22PermitTypeID%22%3A%22%22%2C%22PermitIssueDateFrom%22%3A%2201%2F01%2F2013%22%2C%22PermitIssueDateTo%22%3A%2202%2F16%2F2016%22%2C%22PermitIdsForMap%22%3A%22%22%2C%22PermittedStartDateFrom%22%3A%22%22%2C%22PermittedStartDateTo%22%3A%22%22%2C%22geom%22%3A%22%22%2C%22BoroughCode%22%3A%22%22%2C%22CommunityBoard%22%3A%22101%22%2C%22HouseNumber%22%3A%22%22%2C%22OnStreet%22%3A%22%22%2C%22txtOnStreet%22%3A%22%22%2C%22FromStreet%22%3A%22%22%2C%22ToStreet%22%3A%22%22%2C%22CrossStreet%22%3A%22%22%2C%22OFTCode%22%3A%22%22%2C%22PermitteeTypeID%22%3A%22%22%2C%22source%22%3A%22SearchByPermit%22%2C%22txtFromStreet%22%3Anull%2C%22txtToStreet%22%3Anull%2C%22txtCrossStreet%22%3Anull%7D&_search=false&nd=1454701293525&rows=50&sidx=PermitNumber&sord=desc'])\n",
    "\n",
    "print (output)\n",
    "\n"
   ]
  },
  {
   "cell_type": "code",
   "execution_count": null,
   "metadata": {
    "collapsed": false
   },
   "outputs": [],
   "source": [
    "!pwd"
   ]
  },
  {
   "cell_type": "code",
   "execution_count": null,
   "metadata": {
    "collapsed": false
   },
   "outputs": [],
   "source": [
    "%%bash\n",
    "for i in `seq 1 12`\n",
    "do\n",
    "\techo $i\n",
    "\tpre_req1=\"strPermitModel=%7B%22PermitNumber%22%3A%22%22%2C%22PermitSeriesID%22%3A%22%22%2C%22PermitTypeID%22%3A%22%22%2C%22PermitIssueDateFrom%22%3A%2201%2F01%2F2014%22%2C%22PermitIssueDateTo%22%3A%2201%2F17%2F2016%22%2C%22PermitIdsForMap%22%3A%22%22%2C%22PermittedStartDateFrom%22%3A%22%22%2C%22PermittedStartDateTo%22%3A%22%22%2C%22geom%22%3A%22%22%2C%22BoroughCode%22%3A%22%22%2C%22CommunityBoard%22%3A%22101%22%2C%22HouseNumber%22%3A%22%22%2C%22OnStreet%22%3A%22%22%2C%22txtOnStreet%22%3A%22%22%2C%22FromStreet%22%3A%22%22%2C%22ToStreet%22%3A%22%22%2C%22CrossStreet%22%3A%22%22%2C%22OFTCode%22%3A%22%22%2C%22PermitteeTypeID%22%3A%22%22%2C%22source%22%3A%22SearchByPermit%22%2C%22txtFromStreet%22%3Anull%2C%22txtToStreet%22%3Anull%2C%22txtCrossStreet%22%3Anull%7D&_search=false&nd=1453057195969&rows=4000&page=\"\n",
    "\tpre_req2=\"&sidx=PermitNumber&sord=desc\"\n",
    "\tcurl -XPUT \"http://nycstreets.net/Public/Permits/PermitSearch_Adv/\" --data $pre_req1$i$pre_req2 --compressed -o $i.txt\n",
    "\twait\n",
    "done"
   ]
  },
  {
   "cell_type": "code",
   "execution_count": null,
   "metadata": {
    "collapsed": false
   },
   "outputs": [],
   "source": [
    "print len(jsonData)"
   ]
  },
  {
   "cell_type": "code",
   "execution_count": null,
   "metadata": {
    "collapsed": false
   },
   "outputs": [],
   "source": [
    "permit =  data[0]['cell'][1]\n",
    "temp = '\\'' + permit + '\\''\n",
    "print temp\n",
    "print f(permit)"
   ]
  },
  {
   "cell_type": "code",
   "execution_count": 16,
   "metadata": {
    "collapsed": false
   },
   "outputs": [],
   "source": [
    "validTo = 'null'\n",
    "permitteeName = 'null'\n",
    "purpose = 'null'\n",
    "house = 'null'\n",
    "permitSeries = 'null'\n",
    "permitType = 'null'\n",
    "\n",
    "\n",
    "def getPermitDetails(x):\n",
    "    global validTo, permitteeName, purpose, house, permitType, permitSeries\n",
    "    page = requests.get('https://nycstreets.net/Public/Permit/Details/'+x)\n",
    "    tree = html.fromstring(page.content)\n",
    "\n",
    "    temp = tree.xpath('//div[@class=\\'row\\']/div/strong[text()=\\'Permit Valid To: \\']/../span/text()')\n",
    "    if len(temp) != 0 :\n",
    "        validTo = temp[0]\n",
    "        \n",
    "    temp = tree.xpath('//div[@class=\\'row\\']/div/strong[text()=\\'Permittee Name: \\']/../span/text()')\n",
    "    if len(temp) != 0 :\n",
    "        permitteeName = temp[0]\n",
    "    \n",
    "    temp = tree.xpath('//div[@class=\\'row\\']/div/strong[text()=\\'Permit Purpose: \\']/../span/text()')\n",
    "    if len(temp)!= 0 :\n",
    "        purpose = temp[0]\n",
    "    \n",
    "    temp = tree.xpath('//div[@class=\\'row\\']/div/strong[text()=\\'House #: \\']/../span/text()')\n",
    "    if len(temp) != 0 :\n",
    "        house = temp[0]\n",
    "        \n",
    "    temp = tree.xpath('//div[@class=\\'row\\']/div/strong[text()=\\'Permit Series: \\']/../span/text()')\n",
    "    if len(temp) != 0 :\n",
    "        permitSeries = temp[0]\n",
    "        \n",
    "    temp = tree.xpath('//div[@class=\\'row\\']/div/strong[text()=\\'Permit Type: \\']/../span/text()')\n",
    "    if len(temp) != 0 :\n",
    "        permitType = temp[0]\n",
    "    \n",
    "    return {'validTo': validTo, \n",
    "            'permitteeName': permitteeName,\n",
    "            'purpose': purpose, \n",
    "            'house': house, \n",
    "            'permitSeries': permitSeries, \n",
    "            'permitType': permitType,\n",
    "           }\n",
    "    "
   ]
  },
  {
   "cell_type": "code",
   "execution_count": null,
   "metadata": {
    "collapsed": false
   },
   "outputs": [],
   "source": [
    "validTo = 'null'\n",
    "purpose = 'null'\n",
    "house = 'null'\n",
    "\n",
    "page = requests.get('https://nycstreets.net/Public/Permit/Details/M012015365A51')\n",
    "tree = html.fromstring(page.content)\n",
    "\n",
    "temp = tree.xpath('//div[@class=\\'row\\']/div/strong[text()=\\'Permit Valid To: \\']/../span/text()')\n",
    "validTo = temp[0]\n",
    "    \n",
    "temp = tree.xpath('//div[@class=\\'row\\']/div/strong[text()=\\'Permit Purpose: \\']/../span/text()')\n",
    "purpose = temp[0]\n",
    "    \n",
    "temp = tree.xpath('//div[@class=\\'row\\']/div/strong[text()=\\'House #: \\']/../span/text()')\n",
    "if len(temp) !=0 :\n",
    "   house = temp[0]"
   ]
  },
  {
   "cell_type": "code",
   "execution_count": null,
   "metadata": {
    "collapsed": false
   },
   "outputs": [],
   "source": [
    "print validTo\n",
    "print purpose\n",
    "print house"
   ]
  },
  {
   "cell_type": "code",
   "execution_count": null,
   "metadata": {
    "collapsed": false,
    "scrolled": true
   },
   "outputs": [],
   "source": [
    "i = 0;\n",
    "with open(\"masterPermitsCsv2.csv.csv\", \"w\") as file:\n",
    "    csv_file = csv.writer(file)\n",
    "    headers = ['Permit Number', 'Permit Series', 'Permit Type', 'Permit Status', 'Issue Date', 'Valid To', \n",
    "               'House Number', 'On Street', 'From Street', 'To Street', 'Permittee Name', 'Permit Purpose', \n",
    "               'Location (WKT)']\n",
    "    csv_file.writerow(headers)\n",
    "    for item in jsonData:\n",
    "        permit =  jsonData[i]['cell'][1]\n",
    "        if len(permit) > 4:\n",
    "            permit = permit[0:4]\n",
    "        permitNumber = jsonData[i]['cell'][0]\n",
    "        getPermitDetails(permitNumber)\n",
    "        permitStatus = jsonData[i]['cell'][2] #permit status\n",
    "        issueDate = jsonData[i]['cell'][3] #issue date\n",
    "        onStreet = jsonData[i]['cell'][5]  #On street\n",
    "        fromStreet = jsonData[i]['cell'][6]  #From Street\n",
    "        toStreet = jsonData[i]['cell'][7]  #To street\n",
    "    #  permitteeName = jsonData[i]['cell'][8] permittee name\n",
    "        permitteeName = permitteeName.decode('unicode_escape').encode('ascii','ignore')\n",
    "        locationWKT = jsonData[i]['cell'][9] #location (wkt)\n",
    "        csv_file.writerow([permitNumber, permitSeries, permitType, permitStatus, issueDate, validTo, house, \n",
    "                          onStreet, fromStreet, toStreet, permitteeName, purpose, locationWKT])\n",
    "        i = i + 1"
   ]
  },
  {
   "cell_type": "code",
   "execution_count": 17,
   "metadata": {
    "collapsed": false
   },
   "outputs": [
    {
     "name": "stdout",
     "output_type": "stream",
     "text": [
      "03/30/2016\n",
      "PORT AUTHORITY OF NY & NJ\n"
     ]
    }
   ],
   "source": [
    "getPermitDetails('Q022015349A21')\n",
    "print validTo\n",
    "print permitteeName\n",
    "#print purpose\n",
    "#print house"
   ]
  },
  {
   "cell_type": "code",
   "execution_count": null,
   "metadata": {
    "collapsed": false
   },
   "outputs": [],
   "source": [
    "def getPermitType(x):\n",
    "    return {\n",
    "        '0100': 'OPEN SIDEWALK TO INSTALL FOUNDATION',\n",
    "        '0102': 'MAJOR INSTALLATIONS - HIGH VOLTAGE',\n",
    "        '0103': 'MAJOR INSTALLATION – GAS',\n",
    "        '0104': 'MAJOR INSTALLATIONS – STEAM',\n",
    "        '0105': 'MAJOR INSTALLATIONS – TELEPHONE',\n",
    "        '0106': 'TRANSFORMER VAULT - IN ROADWAY',\n",
    "        '0107': 'TRANSFORMER VAULT - IN SIDEWALK AREA',\n",
    "        '0108': 'INSTALLATION OF POLES',\n",
    "        '0109': 'MAJOR INSTALLATIONS – WATER',\n",
    "        '0110': 'MAJOR INSTALLATIONS – CABLE',\n",
    "        '0111': 'MAJOR INSTALLATIONS – SEWER',\n",
    "        '0112': 'RAPID TRANSIT CONSTRUCT/ ALTERATION',\n",
    "        '0113': 'REPAIR WATER',\n",
    "        '0114': 'REPAIR SEWER',\n",
    "        '0115': 'REPAIR WATER – SEWER',\n",
    "        '0116': 'FUEL OIL LINE',\n",
    "        '0117': 'VAULT CONSTRUCTION OR ALTERATION',\n",
    "        '0118': 'RESET, REPAIR OR REPLACE CURB',\n",
    "        '0119': 'PAVE STREET-W/ ENGINEERING & INSP FEE',\n",
    "        '0120': 'TREE PITS',\n",
    "        '0121': 'CONSTRUCT OR ALTER MANHOLE &/OR CASTING',\n",
    "        '0122': 'REPAIR GAS',\n",
    "        '0123': 'REPAIR STEAM',\n",
    "        '0124': 'REPAIR ELECTRIC/COMMUNICATIONS',\n",
    "        '0125': 'LEADER DRAIN UNDER SIDEWALK',\n",
    "        '0126': 'TEST PITS, CORES OR BORING',\n",
    "        '0127': 'CONDUIT CONSTRUCTION AND FRANCHISE',\n",
    "        '0128': 'ERECT CANOPY',\n",
    "        '0129': 'INSTALL STREET FURNITURE',\n",
    "        '0130': 'LAND FILL',\n",
    "        '0131': 'PRIVATE SEWER',\n",
    "        '0132': 'INSTALL FENCE',\n",
    "        '0133': 'INSTALL TRAFFIC SIGNALS',\n",
    "        '0134': 'REPAIR PETROLEUM LEAK',\n",
    "        '0135': 'FINAL RESTORATION ONLY',\n",
    "        '0136': 'DEP CONTRACTOR MAJOR INSTALLATION WATER',\n",
    "        '0137': 'DEP CONTRACTOR MAJOR INSTALLATION SEWER',\n",
    "        '0138': 'INSTALLATION OF FIRE ALARM BOX',\n",
    "        '0139': 'INSTALLATION OF BUS SHELTER',\n",
    "        '0140': 'REGRADE HARDWARE U/C ONLY',\n",
    "        '0147': 'CONST/ALTER MANHOLE &/OR MANHOLE CASTING',\n",
    "        '0151': 'INST./REMOVE PUBLIC PHONE/TECH-KIOSK',\n",
    "        '0152': 'ST OPNG/INSTA/TESTS PITS/MONIT WELL/PIPE',\n",
    "        '0153': 'ST.OPNG/INSTALL.TEST PIT/MONIT WELL/PIPE',\n",
    "        '0154': 'INSTALL TRAFFIC STREET LIGHTS',\n",
    "        '0155': 'REGRADE/REPLACE STREET HARDWARE/CASTING',\n",
    "        '0156': 'REPAIR TRAFFIC STREET LIGHT',\n",
    "        '0157': 'REPAIR TRAFFIC SIGNALS',\n",
    "        '0158': 'D.D.C. CONTRACTOR MAJOR RECONSTRUCTION',\n",
    "        '0159': 'E.D.C. CONTRACTOR MAJOR RECONSTRUCTION',\n",
    "        '0160': 'SIDEWALK RECONSTRUCTION CONTRACTS',\n",
    "        '0161': 'NYCDOT-BRIDGES RECONSTRUCTION',\n",
    "        '0162': 'NYC PARKS - RECONSTRUCTION CONTRACT',\n",
    "        '0163': 'SCHOOL CONSTRUCTION AUTHORITY-CONTRACT W',\n",
    "        '0164': 'NYS DOT-CONSTRUCTION',\n",
    "        '0165': 'INSTALL NEWSSTAND',\n",
    "        '0166': 'PAVEMENT CORES',\n",
    "        '0167': 'RESTORATION RE-DIG',\n",
    "        '0168': 'CORE RE-DIG',\n",
    "        '0172': 'MICRO TRENCHING',\n",
    "        '0173': 'REGRADE HARDWARE',\n",
    "        '0180': 'TREE PIT/STORM WATER INLET',\n",
    "        '0181': 'INSTALLATION OF POLES',\n",
    "        '0182': 'EMOVAL OF POLES',\n",
    "        '0183': 'RELOCATION OF POLES',\n",
    "        '0184': 'REPLACEMENT OF POLES',\n",
    "        '0199': 'PERMIT OF RECORD',\n",
    "        '0201': 'PLACE MATERIAL ON STREET',\n",
    "        '0202': 'CROSSING SIDEWALK',\n",
    "        '0203': 'PLACE CRANE OR SHOVEL ON STREET',\n",
    "        '0204': 'PLACE EQUIPMENT OTHER THAN CRANE OR SHOV',\n",
    "        '0205': 'PLACE SHANTY OR TRAILER ON STREET',\n",
    "        '0208': 'TEMPORARY PEDESTRIAN WALK',\n",
    "        '0209': 'HANG BANNER ACROSS STREET',\n",
    "        '0210': 'INSTALL TEMP. DECORATIVE LIGHT ON STREET',\n",
    "        '0211': 'OCCUPANCY OF ROADWAY AS STIPULATED',\n",
    "        '0212': 'ALTER OR REMOVE PROJECTIONS BEYOND BUILD',\n",
    "        '0214': 'PLACE CONTAINER ON THE STREET',\n",
    "        '0215': 'OCCUPANCY OF SIDEWALK AS STIPULATED',\n",
    "        '0217': 'CLOSINGS/EQUIPMENTS/FENCE',\n",
    "        '0218': 'INSTALL BIKE RACK ON SIDEWALK',\n",
    "        '0219': 'PLACE TEMPORARY SECURITY STRUCTURE',\n",
    "        '0220': 'TOOL CART PLACEMENT',\n",
    "        '0221': 'TEMPORARY CONSTRUCTION SIGNS/MARKINGS',\n",
    "        '0223': 'SHUNTS- OVERHEAD ONLY',\n",
    "        '0224': 'SHUNTS - STREETS ONLY',\n",
    "        '0225': 'PLACE/REMOVE BIKE SHARE STATION ON ST',\n",
    "        '0301': 'UTILITY MANHOLE EMBARGO PMIT CABLE FAIL',\n",
    "        '0302': 'UTILITY MANHOLE EMBARGO PMIT RODDING',\n",
    "        '0303': 'UTILITY MANHOLE EMBARGO PMIT SYSTM LEAK',\n",
    "        '0304': 'UTILITY MANHOLE EMBARGO PMIT GAS LEAK',\n",
    "        '0305': 'UTILITY MANHOLE EMBARGO PMIT AIR PRESSUR',\n",
    "        '0306': 'UTILIT MANHOLE EMBRGO PMIT GAS PRES INSP',\n",
    "        '0307': 'UTILITY MANHOLE EMBARGO PERMIT INSTALLAT',\n",
    "        '0308': 'UTILIT MANHOLE EMBARGO PERMIT PULL CABLE',\n",
    "        '0309': 'UTILITY MANHOLE EMBARGO PRMIT INNER DUCT',\n",
    "        '0310': 'UTILIT MNHOLE EMBRGO PMIT OTH MAINT INSP',\n",
    "        '0401': 'REPAIR SIDEWALK',\n",
    "        '0402': 'CONSTRUCT NEW SIDEWALK',\n",
    "        '0403': 'REPLACE SIDEWALK',\n",
    "        '0404': 'CONSTRUCT NEW SIDEWALK WITH HEATING PIPE',\n",
    "        '0405': 'CONSTRUCT NEW SIDEWALK BLG. PAVEMENT',\n",
    "        '0501': 'VAULT LICENSE',\n",
    "        '0701': 'CANOPY FOR HOTEL',\n",
    "        '0702': 'CANOPY FOR RESTAURANT',\n",
    "        '0703': 'CANOPY FOR RESIDENCE',\n",
    "        '0704': 'CANOPY FOR MISCELLANEOUS',\n",
    "        '1500': 'DOT IN-HOUSE MILLING',\n",
    "        '1501': 'DOT IN-HOUSE PAVING',\n",
    "        '1502': 'SIM/CWC-CURB INSTALLATION & REPAIR',\n",
    "        '1503': 'SIM/CWC-SIDEWALK INSTALLATION & REPAIR',\n",
    "        '1504': 'SIM/CSC-TRAFFIC ISLAND INSTALL. & REPAIR',\n",
    "        '1505': 'SIM/CWC-PED RAMP INSTALLATION & REPAIR',\n",
    "        '1506': 'SIM/CWC-STEP STREET REPAIR',\n",
    "        '1507': 'SIM/CSC-RETAINING WALL REPAIR',\n",
    "        '1508': 'SIM/CSC-COBBLESTONE STREET REPAIR',\n",
    "        '1509': 'SIM/CWC-ROADWAY RESTORATION',\n",
    "        '1510': 'SIM/CWC-GENERAL WITH EXPLANATION',\n",
    "        '1522': 'DOT USE ONLY-FULL ROADWAY CLOSURE APPL',\n",
    "        '1600': 'COMMERCIAL REFUSE CONTAINER',\n",
    "        '1601': 'COMMERCIAL REFUSE CONTAINER CRITICAL STS',\n",
    "        '1700': 'REQUEST TO PERFORM WORK DURING AN EMBARGO',\n",
    "     }[x]"
   ]
  },
  {
   "cell_type": "code",
   "execution_count": null,
   "metadata": {
    "collapsed": true
   },
   "outputs": [],
   "source": [
    "def getPermitSeries(x):\n",
    "    return {\n",
    "        '01': 'STREET OPENING PERMIT',\n",
    "        '02': 'BUILDING OPERATION PERMIT',\n",
    "        '03': 'MANHOLE EMBARGO PERMIT',\n",
    "        '04': 'SIDEWALK CONSTRUCTION PERMIT',\n",
    "        '05': 'VAULT LICENSE',\n",
    "        '07': 'CANOPY PERMIT',\n",
    "        '15': 'DOT IN-HOUSE PAVING AND MILLING',\n",
    "        '16': 'COMMERICAL REFUSE CONTAINER PERMIT',\n",
    "        '17': 'APPROVAL REQUEST TO PERFORM WORK',\n",
    "    }[x]"
   ]
  },
  {
   "cell_type": "code",
   "execution_count": null,
   "metadata": {
    "collapsed": false
   },
   "outputs": [],
   "source": [
    "i = 0;\n",
    "data = [];\n",
    "with open(\"csvDataPermits2.csv\", \"w\") as file:\n",
    "    csv_file = csv.writer(file)\n",
    "    headers = ['Permit Number', 'Permit Type', 'Permit Series', 'Permit Status', 'Issue Date', 'Valid To', \n",
    "               'House Number', 'On Street', 'From Street', 'To Street', 'Permittee Name', 'Permit Purpose', \n",
    "               'Location (WKT)']\n",
    "    csv_file.writerow(headers)\n",
    "    for item in jsonData:\n",
    "        if i > 0:\n",
    "            data.append([])\n",
    "        permit =  jsonData[i]['cell'][1]\n",
    "        if len(permit) > 4:\n",
    "            permit = permit[0:4]\n",
    "        permitSeries = getPermitSeries(permit[0:2])\n",
    "        permitName = getPermitType(permit)\n",
    "        getPermitDetails(jsonData[i]['cell'][0])\n",
    "        data[i][0] = jsonData[i]['cell'][0]\n",
    "        data[i][1] = permitName\n",
    "        data[i][2] = permitSeries\n",
    "        data[i][3] = jsonData[i]['cell'][2] #permit status\n",
    "        data[i][4] = jsonData[i]['cell'][3] #issue date\n",
    "        data[i][5] = validTo #valid to date\n",
    "        data[i][6] = house  #house no\n",
    "        data[i][7] = jsonData[i]['cell'][5]  #On street\n",
    "        data[i][8] = jsonData[i]['cell'][6]  #From Street\n",
    "        data[i][9] = jsonData[i]['cell'][7]  #To street\n",
    "        data[i][10] = jsonData[i]['cell'][8] #permittee name\n",
    "        data[i][11] = purpose    #permit purpose\n",
    "        data[i][12] = jsonData[i]['cell'][9] #location (wkt)\n",
    "        csv_file.writerow(data[i])\n",
    "        i = i + 1"
   ]
  },
  {
   "cell_type": "code",
   "execution_count": null,
   "metadata": {
    "collapsed": false
   },
   "outputs": [],
   "source": []
  },
  {
   "cell_type": "code",
   "execution_count": null,
   "metadata": {
    "collapsed": true
   },
   "outputs": [],
   "source": []
  }
 ],
 "metadata": {
  "kernelspec": {
   "display_name": "Python 2.7",
   "language": "python",
   "name": "python2.7"
  },
  "language_info": {
   "codemirror_mode": {
    "name": "ipython",
    "version": 2
   },
   "file_extension": ".py",
   "mimetype": "text/x-python",
   "name": "python",
   "nbconvert_exporter": "python",
   "pygments_lexer": "ipython2",
   "version": "2.7.6"
  }
 },
 "nbformat": 4,
 "nbformat_minor": 0
}
